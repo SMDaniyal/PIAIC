{
 "cells": [
  {
   "cell_type": "markdown",
   "metadata": {},
   "source": [
    "#                                          ASSIGNMENT # 01"
   ]
  },
  {
   "cell_type": "markdown",
   "metadata": {},
   "source": [
    "                                        PROGRAM 1 \n",
    "                                     AREA OF A CIRCLE"
   ]
  },
  {
   "cell_type": "code",
   "execution_count": 1,
   "metadata": {},
   "outputs": [
    {
     "name": "stdout",
     "output_type": "stream",
     "text": [
      "Enter Radius of Cirlce : 2\n",
      "Area of a Circle is = 12.564\n"
     ]
    }
   ],
   "source": [
    "radius = float(input(\"Enter Radius of Cirlce : \"))\n",
    "area = 3.141 * (radius*radius)\n",
    "print(\"Area of a Circle is = \" + str(area))"
   ]
  },
  {
   "cell_type": "markdown",
   "metadata": {},
   "source": [
    "                                        PROGRAM 2\n",
    "                          Check Number either positive, negative or zero"
   ]
  },
  {
   "cell_type": "code",
   "execution_count": 2,
   "metadata": {},
   "outputs": [
    {
     "name": "stdout",
     "output_type": "stream",
     "text": [
      "Enter Number : 3\n",
      "Number is Positive\n"
     ]
    }
   ],
   "source": [
    "userInput = float(input(\"Enter Number : \"))\n",
    "if(userInput > 0):\n",
    "    print(\"Number is Positive\")\n",
    "elif(userInput < 0):\n",
    "    print(\"Number is Negarive\")\n",
    "elif(userInput==0):\n",
    "    print(\"Number is Zero\")\n",
    "else:\n",
    "    print(\"Please Input a Valid Number\")"
   ]
  },
  {
   "cell_type": "markdown",
   "metadata": {},
   "source": [
    "                                        PROGRAM 3\n",
    "Write a Python program to check whether a number is completely divisible by another number. Accept two integer values form the use\n",
    "                                    "
   ]
  },
  {
   "cell_type": "code",
   "execution_count": 4,
   "metadata": {},
   "outputs": [
    {
     "name": "stdout",
     "output_type": "stream",
     "text": [
      "Please Enter Dividend: 4\n",
      "Please Enter Divisor: 2\n",
      "4 is completely divisle by 2\n"
     ]
    }
   ],
   "source": [
    "\n",
    "no1 = int(input(\"Please Enter Dividend: \"))\n",
    "no2 = int(input(\"Please Enter Divisor: \"))\n",
    "if((no1%no2) == 0):\n",
    "    print(\"{} is completely divisle by {}\".format(no1,no2))\n",
    "else:\n",
    "    print(\"{} is not completely divisle by {}\".format(no1,no2))\n",
    "    "
   ]
  },
  {
   "cell_type": "markdown",
   "metadata": {},
   "source": [
    "                                        PROGRAM 4\n",
    "                                     Days Calculator"
   ]
  },
  {
   "cell_type": "code",
   "execution_count": 2,
   "metadata": {},
   "outputs": [
    {
     "ename": "SyntaxError",
     "evalue": "invalid syntax (<ipython-input-2-75a7f226103e>, line 4)",
     "output_type": "error",
     "traceback": [
      "\u001b[1;36m  File \u001b[1;32m\"<ipython-input-2-75a7f226103e>\"\u001b[1;36m, line \u001b[1;32m4\u001b[0m\n\u001b[1;33m    print str((result.days()))\u001b[0m\n\u001b[1;37m            ^\u001b[0m\n\u001b[1;31mSyntaxError\u001b[0m\u001b[1;31m:\u001b[0m invalid syntax\n"
     ]
    }
   ],
   "source": [
    "date1 = input(\"Enter first date in (dd/mm/yy) format: \")\n",
    "date2 = input(\"Enter second date in (dd/mm/yy) format: \")\n",
    "result = date1 - date2\n",
    "print result.days()"
   ]
  },
  {
   "cell_type": "code",
   "execution_count": null,
   "metadata": {},
   "outputs": [],
   "source": []
  }
 ],
 "metadata": {
  "kernelspec": {
   "display_name": "Python 3",
   "language": "python",
   "name": "python3"
  },
  "language_info": {
   "codemirror_mode": {
    "name": "ipython",
    "version": 3
   },
   "file_extension": ".py",
   "mimetype": "text/x-python",
   "name": "python",
   "nbconvert_exporter": "python",
   "pygments_lexer": "ipython3",
   "version": "3.7.3"
  }
 },
 "nbformat": 4,
 "nbformat_minor": 2
}
