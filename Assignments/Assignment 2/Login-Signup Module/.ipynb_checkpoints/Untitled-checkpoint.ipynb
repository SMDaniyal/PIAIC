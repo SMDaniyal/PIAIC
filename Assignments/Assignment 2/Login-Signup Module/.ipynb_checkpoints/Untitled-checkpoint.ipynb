{
 "cells": [
  {
   "cell_type": "code",
   "execution_count": 6,
   "metadata": {},
   "outputs": [],
   "source": [
    "def display_result(winner, score, **other_info):\n",
    "    print(\"The winner was \" + winner)\n",
    "    print(\"The score was \" + score)\n",
    "    for key, value in other_info.items():\n",
    "        print(key + \": \" + value)"
   ]
  },
  {
   "cell_type": "code",
   "execution_count": null,
   "metadata": {},
   "outputs": [],
   "source": []
  },
  {
   "cell_type": "code",
   "execution_count": null,
   "metadata": {},
   "outputs": [],
   "source": [
    "\n",
    "    "
   ]
  },
  {
   "cell_type": "code",
   "execution_count": null,
   "metadata": {},
   "outputs": [],
   "source": []
  },
  {
   "cell_type": "code",
   "execution_count": null,
   "metadata": {},
   "outputs": [],
   "source": [
    "print(\"\\t\\t\\tLOGIN SIGNUP MODULE\\n\")\n",
    "def login():\n",
    "    print(\"\\n\")\n",
    "    userName = str(input(\"Enter Your Name: \"))\n",
    "    userPass = str(input(\"Enter Your Password: \"))\n",
    "    userCpass = str(input(\"Confirm Your Password: \"))\n",
    "    if(userName == \"\" or userPass == \"\" or userCpass == \"\"):\n",
    "        print(\"All fileds are required!\")\n",
    "        login()\n",
    "    else:\n",
    "        if(userPass != userCpass):\n",
    "            print(\"Password doesn't match\\nPlease review your password\")\n",
    "            login()\n",
    "        else:\n",
    "            print(\"Account Created!\")\n",
    "login()"
   ]
  },
  {
   "cell_type": "code",
   "execution_count": null,
   "metadata": {},
   "outputs": [],
   "source": []
  },
  {
   "cell_type": "code",
   "execution_count": null,
   "metadata": {},
   "outputs": [],
   "source": []
  }
 ],
 "metadata": {
  "kernelspec": {
   "display_name": "Python 3",
   "language": "python",
   "name": "python3"
  },
  "language_info": {
   "codemirror_mode": {
    "name": "ipython",
    "version": 3
   },
   "file_extension": ".py",
   "mimetype": "text/x-python",
   "name": "python",
   "nbconvert_exporter": "python",
   "pygments_lexer": "ipython3",
   "version": "3.7.3"
  }
 },
 "nbformat": 4,
 "nbformat_minor": 2
}
