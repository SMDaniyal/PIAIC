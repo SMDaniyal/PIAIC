{
 "cells": [
  {
   "cell_type": "code",
   "execution_count": null,
   "metadata": {},
   "outputs": [],
   "source": [
    "\n",
    "\n",
    "# print(\"\\t\\t\\tLOGIN SIGNUP MODULE\\n\")\n",
    "# def login():\n",
    "#     print(\"\\n\")\n",
    "#     userName = str(input(\"Enter Your Name: \"))\n",
    "#     userPass = str(input(\"Enter Your Password: \"))\n",
    "#     userCpass = str(input(\"Confirm Your Password: \"))\n",
    "#     if(userName == \"\" or userPass == \"\" or userCpass == \"\"):\n",
    "#         print(\"All fileds are required!\")\n",
    "#         login()\n",
    "#     else:\n",
    "#         if(userPass != userCpass):\n",
    "#             print(\"Password doesn't match\\nPlease review your password\")\n",
    "#             login()\n",
    "#         else:\n",
    "#             print(\"Account Created!\")\n",
    "# login()"
   ]
  },
  {
   "cell_type": "code",
   "execution_count": 25,
   "metadata": {},
   "outputs": [
    {
     "name": "stdout",
     "output_type": "stream",
     "text": [
      "Enter Your Name: Hello\n",
      "Enter Your Password: world\n",
      "Record Successfully Inserted\n"
     ]
    }
   ],
   "source": [
    "import sqlite3\n",
    "\n",
    "userName = str(input(\"Enter Your Name: \"))\n",
    "userPass = str(input(\"Enter Your Password: \"))\n",
    "\n",
    "# with sqlite3.connect(\"Sample_DB\") as db:\n",
    "\n",
    "#     cursor = db.cursor()\n",
    "conn = sqlite3.connect('test.db',timeout=10)\n",
    "\n",
    "    \n",
    "conn.execute('''\n",
    "CREATE TABLE IF NOT EXISTS userData(\n",
    "userName varchar(20) NOT NULL,\n",
    "password varchar(20) NOT NULL\n",
    ")''')\n",
    "\n",
    "# cursor.execute('''\n",
    "# INSERT INTO userDATA(username,password)\n",
    "# VALUES('''+ userName +''','''+ userPass +''')\n",
    "# ''')\n",
    "# cursor.execute('''\n",
    "# INSERT INTO userDATA(username,password)\n",
    "# VALUES(\"SMD\",\"abc\")\n",
    "# ''')\n",
    "conn.execute('''\n",
    "INSERT INTO userDATA(username,password)\n",
    "VALUES(\"'''+ userName +'''\",\"'''+ userPass +'''\")\n",
    "''')\n",
    "conn.commit()\n",
    "print(\"Record Successfully Inserted\")"
   ]
  },
  {
   "cell_type": "code",
   "execution_count": null,
   "metadata": {},
   "outputs": [],
   "source": []
  }
 ],
 "metadata": {
  "kernelspec": {
   "display_name": "Python 3",
   "language": "python",
   "name": "python3"
  },
  "language_info": {
   "codemirror_mode": {
    "name": "ipython",
    "version": 3
   },
   "file_extension": ".py",
   "mimetype": "text/x-python",
   "name": "python",
   "nbconvert_exporter": "python",
   "pygments_lexer": "ipython3",
   "version": "3.7.3"
  }
 },
 "nbformat": 4,
 "nbformat_minor": 2
}
