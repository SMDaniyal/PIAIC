{
 "cells": [
  {
   "cell_type": "code",
   "execution_count": null,
   "metadata": {},
   "outputs": [
    {
     "name": "stdout",
     "output_type": "stream",
     "text": [
      "\t\t\tLOGIN SIGNUP MODULE\n",
      "\n",
      "\n",
      "\n"
     ]
    }
   ],
   "source": [
    "print(\"\\t\\t\\tLOGIN SIGNUP MODULE\\n\")\n",
    "def login():\n",
    "    \n",
    "    print(\"\\n\")\n",
    "    userName = str(input(\"Enter Your Name: \"))\n",
    "    userPass = str(input(\"Enter Your Password: \"))\n",
    "    userCpass = str(input(\"Confirm Your Password: \"))\n",
    "    if(userName == \"\" or userPass == \"\" or userCpass == \"\"):\n",
    "        print(\"All fileds are required!\")\n",
    "        login()\n",
    "    else:\n",
    "        if(userPass != userCpass):\n",
    "            print(\"Password doesn't match\\nPlease review your password\")\n",
    "            login()\n",
    "        else:\n",
    "            print(\"Account Created!\")\n",
    "login()"
   ]
  },
  {
   "cell_type": "code",
   "execution_count": null,
   "metadata": {},
   "outputs": [],
   "source": []
  },
  {
   "cell_type": "code",
   "execution_count": null,
   "metadata": {},
   "outputs": [],
   "source": []
  },
  {
   "cell_type": "code",
   "execution_count": null,
   "metadata": {},
   "outputs": [],
   "source": []
  },
  {
   "cell_type": "code",
   "execution_count": null,
   "metadata": {},
   "outputs": [],
   "source": []
  },
  {
   "cell_type": "code",
   "execution_count": null,
   "metadata": {},
   "outputs": [],
   "source": []
  }
 ],
 "metadata": {
  "kernelspec": {
   "display_name": "Python 3",
   "language": "python",
   "name": "python3"
  },
  "language_info": {
   "codemirror_mode": {
    "name": "ipython",
    "version": 3
   },
   "file_extension": ".py",
   "mimetype": "text/x-python",
   "name": "python",
   "nbconvert_exporter": "python",
   "pygments_lexer": "ipython3",
   "version": "3.7.3"
  }
 },
 "nbformat": 4,
 "nbformat_minor": 2
}
