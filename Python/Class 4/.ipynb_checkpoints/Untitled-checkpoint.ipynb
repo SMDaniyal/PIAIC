{
 "cells": [
  {
   "cell_type": "code",
   "execution_count": 2,
   "metadata": {},
   "outputs": [],
   "source": [
    "# Topics:\n",
    "# 1)  Dictionary\n",
    "#     * Methods\n",
    "#     * Attributes\n",
    "#     * Value extraction\n",
    "# 2)  Functions\n",
    "#     * Default Functions\n",
    "#     * Required Arguments Functions\n",
    "#     * Optional Arguments Functions\n",
    "#     * Key / Value Arguments"
   ]
  },
  {
   "cell_type": "markdown",
   "metadata": {},
   "source": [
    "# DICTIONARY (SAME AS OBJECT [JSON])"
   ]
  },
  {
   "cell_type": "code",
   "execution_count": 4,
   "metadata": {},
   "outputs": [
    {
     "name": "stdout",
     "output_type": "stream",
     "text": [
      "Daniyal SMD 03123456789 044\n"
     ]
    }
   ],
   "source": [
    "# LIST (Same as Array)\n",
    "\n",
    "l2 = ['Daniyal','SMD','03123456789','044']\n",
    "print(*l2)"
   ]
  },
  {
   "cell_type": "code",
   "execution_count": 5,
   "metadata": {},
   "outputs": [
    {
     "data": {
      "text/plain": [
       "{'name': 'Syed Muhammad Daniyal',\n",
       " 'F_name': 'Syed Nayyar Iqbal',\n",
       " 'id': '1234',\n",
       " 'cell': '12345678901',\n",
       " 'age': 21}"
      ]
     },
     "execution_count": 5,
     "metadata": {},
     "output_type": "execute_result"
    }
   ],
   "source": [
    "# Dictionary\n",
    "\n",
    "obj1 = {\n",
    "    'name' : 'Syed Muhammad Daniyal',\n",
    "    'F_name' : 'Syed Nayyar Iqbal',\n",
    "    'id' : '1234',\n",
    "    'cell' : '12345678901',\n",
    "    'age' : 21\n",
    "}\n",
    "obj1 "
   ]
  },
  {
   "cell_type": "code",
   "execution_count": 7,
   "metadata": {},
   "outputs": [
    {
     "data": {
      "text/plain": [
       "'Syed Muhammad Daniyal'"
      ]
     },
     "execution_count": 7,
     "metadata": {},
     "output_type": "execute_result"
    }
   ],
   "source": [
    "obj1['name']"
   ]
  },
  {
   "cell_type": "code",
   "execution_count": 8,
   "metadata": {},
   "outputs": [],
   "source": [
    "# Key can be String and Integer\n",
    "# Value can be of any data types"
   ]
  },
  {
   "cell_type": "code",
   "execution_count": 18,
   "metadata": {},
   "outputs": [
    {
     "name": "stdout",
     "output_type": "stream",
     "text": [
      "name F_name id cell age\n"
     ]
    }
   ],
   "source": [
    "print(*obj1)"
   ]
  },
  {
   "cell_type": "markdown",
   "metadata": {},
   "source": [
    "# Dictionary Value Extraction"
   ]
  },
  {
   "cell_type": "code",
   "execution_count": 20,
   "metadata": {},
   "outputs": [],
   "source": [
    "def abc(name,course,Id):\n",
    "    print(name,course,Id)\n",
    "    "
   ]
  },
  {
   "cell_type": "code",
   "execution_count": 21,
   "metadata": {},
   "outputs": [
    {
     "name": "stdout",
     "output_type": "stream",
     "text": [
      "SMD AI 12\n"
     ]
    }
   ],
   "source": [
    "obj = {\n",
    "    'course' : 'AI',\n",
    "    'name' : 'SMD',\n",
    "    'Id' : 12\n",
    "}\n",
    "abc(**obj)"
   ]
  },
  {
   "cell_type": "markdown",
   "metadata": {},
   "source": [
    "# DICTIONARY METHODS"
   ]
  },
  {
   "cell_type": "code",
   "execution_count": 25,
   "metadata": {},
   "outputs": [
    {
     "data": {
      "text/plain": [
       "<function dict.copy>"
      ]
     },
     "execution_count": 25,
     "metadata": {},
     "output_type": "execute_result"
    }
   ],
   "source": [
    "obj2 = obj.copy\n",
    "obj2"
   ]
  },
  {
   "cell_type": "code",
   "execution_count": 24,
   "metadata": {},
   "outputs": [
    {
     "name": "stdout",
     "output_type": "stream",
     "text": [
      "<built-in method copy of dict object at 0x0000024B1FCA6D38>\n"
     ]
    }
   ],
   "source": [
    "print(obj2)"
   ]
  },
  {
   "cell_type": "code",
   "execution_count": 26,
   "metadata": {},
   "outputs": [],
   "source": [
    "l1 = ['Name','Father_Name','Address']\n",
    "new_Obj = dict.fromkeys(l1) #Create Dictionary From keys"
   ]
  },
  {
   "cell_type": "code",
   "execution_count": 29,
   "metadata": {},
   "outputs": [
    {
     "data": {
      "text/plain": [
       "{'Name': None, 'Father_Name': None, 'Address': None}"
      ]
     },
     "execution_count": 29,
     "metadata": {},
     "output_type": "execute_result"
    }
   ],
   "source": [
    "new_Obj"
   ]
  },
  {
   "cell_type": "code",
   "execution_count": 31,
   "metadata": {},
   "outputs": [
    {
     "data": {
      "text/plain": [
       "{'Name': '****', 'Father_Name': '****', 'Address': '****'}"
      ]
     },
     "execution_count": 31,
     "metadata": {},
     "output_type": "execute_result"
    }
   ],
   "source": [
    "l2 = ['Name','Father_Name','Address']\n",
    "new_Obj2 = dict.fromkeys(l2,'****') #Create Dictionary From keys with defined values\n",
    "new_Obj2"
   ]
  },
  {
   "cell_type": "code",
   "execution_count": 33,
   "metadata": {},
   "outputs": [
    {
     "data": {
      "text/plain": [
       "'****'"
      ]
     },
     "execution_count": 33,
     "metadata": {},
     "output_type": "execute_result"
    }
   ],
   "source": [
    "new_Obj2.get('Name')  # Get value against Keys"
   ]
  },
  {
   "cell_type": "code",
   "execution_count": 34,
   "metadata": {},
   "outputs": [
    {
     "data": {
      "text/plain": [
       "dict_keys(['Name', 'Father_Name', 'Address'])"
      ]
     },
     "execution_count": 34,
     "metadata": {},
     "output_type": "execute_result"
    }
   ],
   "source": [
    "new_Obj2.keys() # Return list of Keys"
   ]
  },
  {
   "cell_type": "code",
   "execution_count": 35,
   "metadata": {},
   "outputs": [
    {
     "data": {
      "text/plain": [
       "dict_items([('Name', '****'), ('Father_Name', '****'), ('Address', '****')])"
      ]
     },
     "execution_count": 35,
     "metadata": {},
     "output_type": "execute_result"
    }
   ],
   "source": [
    "new_Obj2.items() # Return List/Tuple of All Keys and Values "
   ]
  },
  {
   "cell_type": "code",
   "execution_count": 36,
   "metadata": {},
   "outputs": [
    {
     "data": {
      "text/plain": [
       "dict_values(['****', '****', '****'])"
      ]
     },
     "execution_count": 36,
     "metadata": {},
     "output_type": "execute_result"
    }
   ],
   "source": [
    "new_Obj2.values() # Return List of Values"
   ]
  },
  {
   "cell_type": "code",
   "execution_count": 40,
   "metadata": {},
   "outputs": [
    {
     "name": "stdout",
     "output_type": "stream",
     "text": [
      "('Name', '****')\n",
      "Name ****\n",
      "('Father_Name', '****')\n",
      "Father_Name ****\n",
      "('Address', '****')\n",
      "Address ****\n"
     ]
    }
   ],
   "source": [
    "for e in new_Obj2.items():\n",
    "    print(e)\n",
    "    print(*e)"
   ]
  },
  {
   "cell_type": "code",
   "execution_count": 41,
   "metadata": {},
   "outputs": [
    {
     "data": {
      "text/plain": [
       "'****'"
      ]
     },
     "execution_count": 41,
     "metadata": {},
     "output_type": "execute_result"
    }
   ],
   "source": [
    "new_Obj2.pop('Address') #Remove key"
   ]
  },
  {
   "cell_type": "code",
   "execution_count": 42,
   "metadata": {},
   "outputs": [
    {
     "data": {
      "text/plain": [
       "('Father_Name', '****')"
      ]
     },
     "execution_count": 42,
     "metadata": {},
     "output_type": "execute_result"
    }
   ],
   "source": [
    "new_Obj2.popitem() #Remove last Tuple (Key/value)"
   ]
  },
  {
   "cell_type": "code",
   "execution_count": 43,
   "metadata": {},
   "outputs": [
    {
     "data": {
      "text/plain": [
       "{'Name': '****'}"
      ]
     },
     "execution_count": 43,
     "metadata": {},
     "output_type": "execute_result"
    }
   ],
   "source": [
    "new_Obj2"
   ]
  },
  {
   "cell_type": "code",
   "execution_count": 44,
   "metadata": {},
   "outputs": [],
   "source": [
    "obj = {\n",
    "    'Name' : 'SMD',\n",
    "    'Id' : '123',\n",
    "    'Course' : 'AI'\n",
    "}"
   ]
  },
  {
   "cell_type": "code",
   "execution_count": 45,
   "metadata": {},
   "outputs": [
    {
     "data": {
      "text/plain": [
       "'Street1'"
      ]
     },
     "execution_count": 45,
     "metadata": {},
     "output_type": "execute_result"
    }
   ],
   "source": [
    "obj.setdefault('Address','Street1')   # Add Item "
   ]
  },
  {
   "cell_type": "code",
   "execution_count": 46,
   "metadata": {},
   "outputs": [
    {
     "data": {
      "text/plain": [
       "{'Name': 'SMD', 'Id': '123', 'Course': 'AI', 'Address': 'Street1'}"
      ]
     },
     "execution_count": 46,
     "metadata": {},
     "output_type": "execute_result"
    }
   ],
   "source": [
    "obj"
   ]
  },
  {
   "cell_type": "code",
   "execution_count": 48,
   "metadata": {},
   "outputs": [
    {
     "data": {
      "text/plain": [
       "{'Name': 'Daniyal', 'Id': '123', 'Course': 'AI', 'Address': 'Street1'}"
      ]
     },
     "execution_count": 48,
     "metadata": {},
     "output_type": "execute_result"
    }
   ],
   "source": [
    "a= {\n",
    "    'Name':'Daniyal'\n",
    "}\n",
    "obj.update(a)   # update value and take one argument of new object\n",
    "obj"
   ]
  },
  {
   "cell_type": "code",
   "execution_count": 49,
   "metadata": {},
   "outputs": [],
   "source": [
    "obj[1] = '1998'   # update throuh index"
   ]
  },
  {
   "cell_type": "code",
   "execution_count": 50,
   "metadata": {},
   "outputs": [
    {
     "data": {
      "text/plain": [
       "{'Name': 'Daniyal',\n",
       " 'Id': '123',\n",
       " 'Course': 'AI',\n",
       " 'Address': 'Street1',\n",
       " 1: '1998'}"
      ]
     },
     "execution_count": 50,
     "metadata": {},
     "output_type": "execute_result"
    }
   ],
   "source": [
    "obj"
   ]
  },
  {
   "cell_type": "code",
   "execution_count": 54,
   "metadata": {},
   "outputs": [
    {
     "name": "stdout",
     "output_type": "stream",
     "text": [
      "Enter Your Name: Daniyal\n",
      "Enter Your Father Name: Nayyar\n",
      "Enter Your Name: Omer\n",
      "Enter Your Father Name: Akram\n",
      "Enter Your Name: N\n",
      "Enter Your Father Name: N\n",
      "[{'name': 'Daniyal', 'fname': 'Nayyar'}, {'name': 'Omer', 'fname': 'Akram'}]\n"
     ]
    }
   ],
   "source": [
    "db = []\n",
    "while True:\n",
    "    Name = input(\"Enter Your Name: \")\n",
    "    Father_Name = input(\"Enter Your Father Name: \")\n",
    "    a = {}\n",
    "    if not(Name == 'N') or not(Father_Name == 'N'):\n",
    "        a['name'] = Name\n",
    "        a['fname'] = Father_Name\n",
    "        db.append(a)\n",
    "    else :\n",
    "        print(db)\n",
    "        break\n",
    "        "
   ]
  },
  {
   "cell_type": "markdown",
   "metadata": {},
   "source": [
    "# FUNCTIONS"
   ]
  },
  {
   "cell_type": "code",
   "execution_count": 70,
   "metadata": {},
   "outputs": [],
   "source": [
    "# def student(name, S_id , F_Name):\n",
    "#     info = \"\"\"\n",
    "#     Student INFO\n",
    "#     Name : {}\n",
    "#     ID : {}\n",
    "#     Father Name : {}\n",
    "#     \"\"\"\n",
    "#     print(info.format(name,S_id,F_Father))\n",
    "#     return;\n",
    "    \n",
    "\n",
    "# student('Daniyal','123','Nayyar')"
   ]
  },
  {
   "cell_type": "code",
   "execution_count": 61,
   "metadata": {},
   "outputs": [
    {
     "name": "stdout",
     "output_type": "stream",
     "text": [
      "1916\n"
     ]
    }
   ],
   "source": [
    "def abc(*a): # take list \n",
    "    print(sum(a))\n",
    "abc(123,412,124,1243,14)"
   ]
  },
  {
   "cell_type": "code",
   "execution_count": 66,
   "metadata": {},
   "outputs": [
    {
     "name": "stdout",
     "output_type": "stream",
     "text": [
      "{'Name': 'Daniyal', 'Course': 'AI'}\n"
     ]
    }
   ],
   "source": [
    "def abcd(**d): # take list \n",
    "    print(d)\n",
    "    \n",
    "abcd(Name ='Daniyal',Course = 'AI')"
   ]
  },
  {
   "cell_type": "code",
   "execution_count": null,
   "metadata": {},
   "outputs": [],
   "source": []
  }
 ],
 "metadata": {
  "kernelspec": {
   "display_name": "Python 3",
   "language": "python",
   "name": "python3"
  },
  "language_info": {
   "codemirror_mode": {
    "name": "ipython",
    "version": 3
   },
   "file_extension": ".py",
   "mimetype": "text/x-python",
   "name": "python",
   "nbconvert_exporter": "python",
   "pygments_lexer": "ipython3",
   "version": "3.7.3"
  }
 },
 "nbformat": 4,
 "nbformat_minor": 2
}
