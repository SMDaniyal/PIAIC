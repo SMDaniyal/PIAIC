{
 "cells": [
  {
   "cell_type": "markdown",
   "metadata": {},
   "source": [
    "#                            Exception Handling & File Handling"
   ]
  },
  {
   "cell_type": "markdown",
   "metadata": {},
   "source": [
    "EXECEPTION HANDLING"
   ]
  },
  {
   "cell_type": "code",
   "execution_count": 22,
   "metadata": {},
   "outputs": [],
   "source": [
    "                                         #TYPES OF EXCEPTIONS\n",
    "# 1) ZeroDivisionError\n",
    "# 2) TypeError\n",
    "# 3) IndexError\n",
    "# 4) FileNotFoundError\n",
    "    \n",
    "a = 5\n",
    "b = 0\n",
    "#a/b  # ZeroDivisionError\n",
    "#\"Hello\" + 123 #TypeError\n",
    "# a= int(input(\"Enter Index: \"))\n",
    "# l = [1,2,3,4,5]\n",
    "# print(l[a])  #IndexError\n",
    "#open (\"ab.tx\") #FileNotFoundError"
   ]
  },
  {
   "cell_type": "code",
   "execution_count": 19,
   "metadata": {},
   "outputs": [
    {
     "name": "stdout",
     "output_type": "stream",
     "text": [
      "Enter First Number: 1\n",
      "Enter Second Number: 0\n",
      "Divide by zero is not possible\n"
     ]
    }
   ],
   "source": [
    "                                    #EXCEPTION HANDLING\n",
    "                                         # 1) TRY\n",
    "                                         # 2) except\n",
    "                                         # 3) else\n",
    "                                         # 4) Finally\n",
    "                \n",
    "\n",
    "a = int(input(\"Enter First Number: \"))\n",
    "b = int(input(\"Enter Second Number: \"))\n",
    "try:\n",
    "    c = a/b\n",
    "except ZeroDivisionError or IndexError :\n",
    "    print(\"Error\")\n",
    "except TypeError\n",
    "    print(\"Type Casting Error\")\n",
    "else:\n",
    "    print(c)"
   ]
  },
  {
   "cell_type": "code",
   "execution_count": 20,
   "metadata": {},
   "outputs": [
    {
     "name": "stdout",
     "output_type": "stream",
     "text": [
      "Enter First Number: 1\n",
      "Enter Second Number: 0\n",
      "Error = division by zero\n"
     ]
    }
   ],
   "source": [
    "a = int(input(\"Enter First Number: \"))\n",
    "b = int(input(\"Enter Second Number: \"))\n",
    "try:\n",
    "    c = a/b\n",
    "except Exception as e:    # e is a nickname for exception \n",
    "    print(\"Error = \" + str(e))\n",
    "else:\n",
    "    print(c)"
   ]
  },
  {
   "cell_type": "code",
   "execution_count": 23,
   "metadata": {},
   "outputs": [
    {
     "name": "stdout",
     "output_type": "stream",
     "text": [
      "Enter First Number: 2\n",
      "Enter Second Number: 0\n",
      "Error = division by zero\n",
      "All rights reserved SMD\n"
     ]
    }
   ],
   "source": [
    "#                                     Finally (Always Run)\n",
    "\n",
    "a = int(input(\"Enter First Number: \"))\n",
    "b = int(input(\"Enter Second Number: \"))\n",
    "try:\n",
    "    c = a/b\n",
    "except Exception as e:    # e is a nickname for exception \n",
    "    print(\"Error = \" + str(e))\n",
    "else:\n",
    "    print(c)\n",
    "finally:\n",
    "    print(\"All rights reserved SMD\")"
   ]
  },
  {
   "cell_type": "code",
   "execution_count": 24,
   "metadata": {},
   "outputs": [],
   "source": [
    "#                                    Creating OWN exception\n",
    "\n",
    "class Student():\n",
    "    def __init__(self,name,age):\n",
    "        if age > 80 and age < 16:\n",
    "            raise StudentAgeException(\"Error\")\n",
    "        self.name = name\n",
    "        self.age = age\n",
    "class StudentAgeException(Exception):\n",
    "    pass\n",
    "        "
   ]
  },
  {
   "cell_type": "code",
   "execution_count": 32,
   "metadata": {},
   "outputs": [
    {
     "name": "stdout",
     "output_type": "stream",
     "text": [
      "Error = can only concatenate str (not \"int\") to str\n"
     ]
    }
   ],
   "source": [
    "a = \"HELLO\"\n",
    "b = 12\n",
    "\n",
    "try:\n",
    "    print(a+b)\n",
    "# except TypeError:\n",
    "#     print(\"Type Casting Error\")\n",
    "except Exception as e:\n",
    "    print(\"Error = \" + str(e) )"
   ]
  },
  {
   "cell_type": "code",
   "execution_count": null,
   "metadata": {},
   "outputs": [],
   "source": []
  }
 ],
 "metadata": {
  "kernelspec": {
   "display_name": "Python 3",
   "language": "python",
   "name": "python3"
  },
  "language_info": {
   "codemirror_mode": {
    "name": "ipython",
    "version": 3
   },
   "file_extension": ".py",
   "mimetype": "text/x-python",
   "name": "python",
   "nbconvert_exporter": "python",
   "pygments_lexer": "ipython3",
   "version": "3.7.3"
  }
 },
 "nbformat": 4,
 "nbformat_minor": 2
}
